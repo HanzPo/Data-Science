{
 "cells": [
  {
   "cell_type": "markdown",
   "metadata": {},
   "source": [
    "Importing all the libaries"
   ]
  },
  {
   "cell_type": "code",
   "execution_count": null,
   "metadata": {},
   "outputs": [],
   "source": [
    "import pandas as pd\n",
    "import numpy as np\n",
    "import matplotlib.pyplot as plt\n",
    "from bs4 import BeautifulSoup\n",
    "import requests"
   ]
  },
  {
   "cell_type": "markdown",
   "metadata": {},
   "source": [
    "Scrape a CSV file from the spreadsheet"
   ]
  },
  {
   "cell_type": "code",
   "execution_count": null,
   "metadata": {},
   "outputs": [],
   "source": [
    "# get csv from to df https://docs.google.com/spreadsheets/d/1ZafspjnRJuDjLRKotQ8awLTGcf3RLxrBEh2JtqRGh0Y/edit?usp=sharing\n",
    "df1 = pd.read_csv('https://docs.google.com/spreadsheets/d/1ZafspjnRJuDjLRKotQ8awLTGcf3RLxrBEh2JtqRGh0Y/export?format=csv')\n",
    "# get csv from https://docs.google.com/spreadsheets/d/1A-6z5Fe30C266rK-6TnQm6CNOGCOnjK6s4hwfRIDMhQ/edit?usp=sharing to df\n",
    "df2 = pd.read_csv('https://docs.google.com/spreadsheets/d/1A-6z5Fe30C266rK-6TnQm6CNOGCOnjK6s4hwfRIDMhQ/export?format=csv')\n",
    "# combine df1 and df2\n",
    "df = pd.concat([df1, df2], axis=0)\n",
    "\n",
    "df.head()"
   ]
  },
  {
   "cell_type": "markdown",
   "metadata": {},
   "source": [
    "Clean Data"
   ]
  },
  {
   "cell_type": "code",
   "execution_count": null,
   "metadata": {},
   "outputs": [],
   "source": [
    "# Let's remove all the columns that we don't need\n",
    "df = df.drop(columns=['Discord', 'Other', 'Date Accepted']).reset_index(drop=True)\n",
    "# delete all duplicate rows\n",
    "df = df.drop_duplicates(keep='first')\n",
    "# Remove all the '%\" in the average column\n",
    "df['Average'] = df['Average'].str.replace('%', '')\n",
    "df['Average'] = df['Average'].str.replace('~', '')\n",
    "df['Average'] = df['Average'].str.replace(',', '')\n",
    "# remove all + in the average column\n",
    "df['Average'] = df['Average'].str.replace('+', '')\n",
    "# Delete rows where average  NaN\n",
    "df = df.dropna(how = 'any', subset=['Average'])\n",
    "\n",
    "blacklisted_avgs = {'99.75 (gr.12 data, adv func, bio, chem)': '99.75',\n",
    "                    'Top6 98, 5 in AP CS and 7 in both IB Math and Physics': '98',\n",
    "                    '96ish': '96.5',\n",
    "                    '94-95': '94.5',\n",
    "                    '98.5-99ish': '98.5',\n",
    "                    'sub 90’s': '97.5',\n",
    "                    '4.0/4.66': '98',\n",
    "                    '96.6 g11': '96.3',\n",
    "                    '94.7 gr12 sem 1 96.6 gr11': '96.3',\n",
    "                    'probably 97.5': '97.5',\n",
    "                    '39/42(IB)': '97',\n",
    "                    '97-98ish': '97.5',\n",
    "                    '99 (based on g11 final and g12 midterm, not likely to maintain)' : '99',\n",
    "                    '99.75 (gr.12 data adv func bio chem)': '99.75',\n",
    "                    'Top6 98 5 in AP CS and 7 in both IB Math and Physics': '98',\n",
    "                    'sub 90’s or somethin': '97.5',\n",
    "                    'around 95 idk what they look at': '95',\n",
    "                    '99 (based on g11 final and g12 midterm not likely to maintain)': '99',\n",
    "                    'around 95 idk': '95',\n",
    "                    }\n",
    "\n",
    "# make sure that if the data frame has value that is a key of the dictionary, it will be replaced with the value\n",
    "for i in range(10):\n",
    "    df['Average'] = df['Average'].replace(blacklisted_avgs)\n"
   ]
  },
  {
   "cell_type": "markdown",
   "metadata": {},
   "source": [
    "UTSG CS"
   ]
  },
  {
   "cell_type": "code",
   "execution_count": null,
   "metadata": {},
   "outputs": [],
   "source": [
    "# Get all utsg\n",
    "# refactored by @khyreek #####################################################\n",
    "\n",
    "# get df where utsg is there\n",
    "df_utsg = pd.concat([\n",
    "    df[df['School'].str.contains(uoft, na=False, case=False)]\n",
    "    for uoft in ('UTSG', 'Toronto', 'UOFT', 'U of T')\n",
    "])\n",
    "\n",
    "# Get all cs within utsg not case sensitive\n",
    "df_utsg_cs = pd.concat([\n",
    "    df_utsg[df_utsg['Program'].str.contains(cs_variant, na=False, case=False)]\n",
    "    for cs_variant in ('Computer Science', 'CS', 'comp sci')\n",
    "])\n",
    "\n",
    "for pair in (('School', 'Scarborough'), ('Program', 'Math')):\n",
    "    # drop all rows where school has scarbgrough in the name\n",
    "    # drop all rows where program has math in the name\n",
    "\n",
    "    row, sub_data = pair\n",
    "    df_utsg_cs = (\n",
    "        df_utsg_cs[~df_utsg_cs[row]\n",
    "            .str\n",
    "            .contains(sub_data, na=False, case=False)]\n",
    "    )\n",
    "\n",
    "# get all accepted\n",
    "df_utsg_cs_accepted = df_utsg_cs[df_utsg_cs['Status'] == 'Accepted']\n",
    "df_utsg_cs_accepted101 = df_utsg_cs_accepted[df_utsg_cs_accepted['Type (101/105)'] == '101']\n",
    "df_utsg_cs_accepted105 = df_utsg_cs_accepted[df_utsg_cs_accepted['Type (101/105)'].str.contains('105')]\n",
    "\n",
    "for accepted in (df_utsg_cs_accepted, df_utsg_cs_accepted101, df_utsg_cs_accepted105):\n",
    "    # get average of df_utsg_cs_accepted average column\n",
    "\n",
    "    accepted = accepted.reset_index(drop=True)\n",
    "    accepted['Average'] = accepted['Average'].astype(float)\n",
    "\n",
    "for uoft_admits, message_prefix in zip(\n",
    "        (df_utsg_cs_accepted, df_utsg_cs_accepted101, df_utsg_cs_accepted105), \n",
    "        (\"Admission Average:\", \"Admission Average 101:\", \"Admission Average 105:\")):\n",
    "\n",
    "    print(f\"{message_prefix} {df_utsg_cs_accepted['Average'].mean()}\")"
   ]
  },
  {
   "cell_type": "code",
   "execution_count": null,
   "metadata": {},
   "outputs": [],
   "source": [
    "plt.title(\"University of Toronto\\nComputer Science Admission Averages\")\n",
    "plt.xlabel(\"Grades\")\n",
    "plt.ylabel(\"Number of People\")\n",
    "plt.hist(np.array(df_utsg_cs_accepted[\"Average\"].tolist(), dtype=np.float64))\n",
    "plt.show()"
   ]
  },
  {
   "cell_type": "markdown",
   "metadata": {},
   "source": [
    "Waterloo Software Engineering"
   ]
  },
  {
   "cell_type": "code",
   "execution_count": null,
   "metadata": {},
   "outputs": [],
   "source": [
    "df_uw1 = df[df['School'].str.contains('UW', na=False, case=False)]\n",
    "df_uw2 = df[df['School'].str.contains('University of Waterloo', na=False, case=False)]\n",
    "df_uw3 = df[df['School'].str.contains('Waterloo', na=False, case=False)]\n",
    "\n",
    "df_uw = pd.concat([df_uw1, df_uw2, df_uw3])\n",
    "\n",
    "df_uw_se1 = df_uw[df_uw['Program'].str.contains('Software Engineering', na=False, case=False)]\n",
    "df_uw_se2 = df_uw[df_uw['Program'].str.contains('SE', na=False, case=False)]\n",
    "df_uw_se3 = df_uw[df_uw['Program'].str.contains('software eng', na=False, case=False)]\n",
    "df_uw_se4 = df_uw[df_uw['Program'].str.contains('soft eng', na=False, case=False)]\n",
    "\n",
    "df_uw_se = pd.concat([df_uw_se1, df_uw_se2, df_uw_se3]).reset_index(drop=True)\n",
    "\n",
    "# get all the accepted\n",
    "df_uw_se_accepted = df_uw_se[df_uw_se['Status'] == 'Accepted'].reset_index(drop=True)\n",
    "df_uw_se_accepted101 = df_uw_se_accepted[df_uw_se_accepted['Type (101/105)'] == '101'].reset_index(drop=True)\n",
    "df_uw_se_accepted105 = df_uw_se_accepted[df_uw_se_accepted['Type (101/105)'].str.contains('105')].reset_index(drop=True)\n",
    "\n",
    "# get the averages\n",
    "df_uw_se_accepted['Average'] = df_uw_se_accepted['Average'].astype(float)\n",
    "df_uw_se_accepted105['Average'] = df_uw_se_accepted105['Average'].astype(float)\n",
    "df_uw_se_accepted101['Average'] = df_uw_se_accepted101['Average'].astype(float)\n",
    "\n",
    "# print the averages\n",
    "print(\"Admission Average: \" + str(df_uw_se_accepted['Average'].mean()))\n",
    "print(\"Admission Average 101: \" + str(df_uw_se_accepted101['Average'].mean()))\n",
    "print(\"Admission Average 105: \" + str(df_uw_se_accepted105['Average'].mean()))\n",
    "\n"
   ]
  },
  {
   "cell_type": "code",
   "execution_count": null,
   "metadata": {},
   "outputs": [],
   "source": [
    "plt.title(\"University of Waterloo\\nSoftware Engineering Admission Averages\")\n",
    "plt.xlabel(\"Grades\")\n",
    "plt.ylabel(\"Number of People\")\n",
    "plt.hist(np.array(df_uw_se_accepted[\"Average\"].tolist(), dtype=np.float64))\n",
    "plt.show()"
   ]
  },
  {
   "cell_type": "markdown",
   "metadata": {},
   "source": [
    "Waterloo Computer Engineering"
   ]
  },
  {
   "cell_type": "code",
   "execution_count": null,
   "metadata": {},
   "outputs": [],
   "source": [
    "df_uw_ce1 = df_uw[df_uw['Program'].str.contains('Computer Engineering', na=False, case=False)]\n",
    "df_uw_ce2 = df_uw[df_uw['Program'] == 'CE']\n",
    "df_uw_ce5 = df_uw[df_uw['Program'] == 'ce']\n",
    "df_uw_ce3 = df_uw[df_uw['Program'].str.contains('computer eng', na=False, case=False)]\n",
    "df_uw_ce4 = df_uw[df_uw['Program'].str.contains('comp eng', na=False, case=False)]\n",
    "\n",
    "df_uw_ce = pd.concat([df_uw_ce1, df_uw_ce2, df_uw_ce3, df_uw_ce4, df_uw_ce5]).reset_index(drop=True)\n",
    "\n",
    "#get all accepted\n",
    "df_uw_ce_accepted = df_uw_ce[df_uw_ce['Status'] == 'Accepted'].reset_index(drop=True)\n",
    "df_uw_ce_accepted101 = df_uw_ce_accepted[df_uw_ce_accepted['Type (101/105)'] == '101'].reset_index(drop=True)\n",
    "df_uw_ce_accepted105 = df_uw_ce_accepted[df_uw_ce_accepted['Type (101/105)'].str.contains('105')].reset_index(drop=True)\n",
    "\n",
    "#get the averages\n",
    "df_uw_ce_accepted['Average'] = df_uw_ce_accepted['Average'].astype(float)\n",
    "df_uw_ce_accepted105['Average'] = df_uw_ce_accepted105['Average'].astype(float)\n",
    "df_uw_ce_accepted101['Average'] = df_uw_ce_accepted101['Average'].astype(float)\n",
    "\n",
    "# print the averages\n",
    "print(\"Admission Average: \" + str(df_uw_ce_accepted['Average'].mean()))\n",
    "print(\"Admission Average 101: \" + str(df_uw_ce_accepted101['Average'].mean()))\n",
    "print(\"Admission Average 105: \" + str(df_uw_ce_accepted105['Average'].mean()))\n",
    "\n"
   ]
  },
  {
   "cell_type": "code",
   "execution_count": null,
   "metadata": {},
   "outputs": [],
   "source": [
    "plt.title(\"University of Waterloo\\nComputer Engineering Admission Averages\")\n",
    "plt.xlabel(\"Grades\")\n",
    "plt.ylabel(\"Number of People\")\n",
    "plt.hist(np.array(df_uw_ce_accepted[\"Average\"].tolist(), dtype=np.float64))\n",
    "plt.show()"
   ]
  },
  {
   "cell_type": "markdown",
   "metadata": {},
   "source": [
    "UW Tron"
   ]
  },
  {
   "cell_type": "code",
   "execution_count": null,
   "metadata": {},
   "outputs": [],
   "source": [
    "df_uw_tron1 = df_uw[df_uw['Program'].str.contains('Tron', na=False, case=False)]\n",
    "df_uw_tron2 = df_uw[df_uw['Program'].str.contains('Mechatronics', na=False, case=False)]\n",
    "\n",
    "# combine\n",
    "df_uw_tron = pd.concat([df_uw_tron1, df_uw_tron2]).reset_index(drop=True)\n",
    "\n",
    "# get accepted\n",
    "df_uw_tron_accepted = df_uw_tron[df_uw_tron['Status'] == 'Accepted'].reset_index(drop=True)\n",
    "df_uw_tron_accepted101 = df_uw_tron_accepted[df_uw_tron_accepted['Type (101/105)'] == '101'].reset_index(drop=True)\n",
    "df_uw_tron_accepted105 = df_uw_tron_accepted[df_uw_tron_accepted['Type (101/105)'].str.contains('105')].reset_index(drop=True)\n",
    "\n",
    "# get averages\n",
    "df_uw_tron_accepted['Average'] = df_uw_tron_accepted['Average'].astype(float)\n",
    "df_uw_tron_accepted105['Average'] = df_uw_tron_accepted105['Average'].astype(float)\n",
    "df_uw_tron_accepted101['Average'] = df_uw_tron_accepted101['Average'].astype(float)\n",
    "\n",
    "# print averages\n",
    "print(\"Admission Average: \" + str(df_uw_tron_accepted['Average'].mean()))\n",
    "print(\"Admission Average 101: \" + str(df_uw_tron_accepted101['Average'].mean()))\n",
    "print(\"Admission Average 105: \" + str(df_uw_tron_accepted105['Average'].mean()))\n",
    "\n",
    "\n"
   ]
  },
  {
   "cell_type": "code",
   "execution_count": null,
   "metadata": {},
   "outputs": [],
   "source": [
    "plt.title(\"University of Waterloo\\nMechatronics Engineering Admission Averages\")\n",
    "plt.xlabel(\"Grades\")\n",
    "plt.ylabel(\"Number of People\")\n",
    "plt.hist(np.array(df_uw_tron_accepted[\"Average\"].tolist(), dtype=np.float64))\n",
    "plt.show()"
   ]
  },
  {
   "cell_type": "markdown",
   "metadata": {},
   "source": [
    "UW MGMNT"
   ]
  },
  {
   "cell_type": "code",
   "execution_count": null,
   "metadata": {},
   "outputs": [],
   "source": [
    "df_uw_mgmnt = df_uw[df_uw['Program'].str.contains('Management Eng', na=False, case=False)]\n",
    "\n",
    "df_uw_mgmnt_accepted = df_uw_mgmnt[df_uw_mgmnt['Status'] == 'Accepted'].reset_index(drop=True)\n",
    "df_uw_mgmnt_accepted101 = df_uw_mgmnt_accepted[df_uw_mgmnt_accepted['Type (101/105)'] == '101'].reset_index(drop=True)\n",
    "df_uw_mgmnt_accepted105 = df_uw_mgmnt_accepted[df_uw_mgmnt_accepted['Type (101/105)'].str.contains('105')].reset_index(drop=True)\n",
    "\n",
    "#get the averages\n",
    "df_uw_mgmnt_accepted['Average'] = df_uw_mgmnt_accepted['Average'].astype(float)\n",
    "df_uw_mgmnt_accepted105['Average'] = df_uw_mgmnt_accepted105['Average'].astype(float)\n",
    "df_uw_mgmnt_accepted101['Average'] = df_uw_mgmnt_accepted101['Average'].astype(float)\n",
    "\n",
    "#print the averages\n",
    "print(\"Admission Average: \" + str(df_uw_mgmnt_accepted['Average'].mean()))\n",
    "print(\"Admission Average 101: \" + str(df_uw_mgmnt_accepted101['Average'].mean()))\n",
    "print(\"Admission Average 105: \" + str(df_uw_mgmnt_accepted105['Average'].mean()))\n"
   ]
  },
  {
   "cell_type": "code",
   "execution_count": null,
   "metadata": {},
   "outputs": [],
   "source": [
    "plt.title(\"University of Waterloo\\nManagement Engineering Admission Averages\")\n",
    "plt.xlabel(\"Grades\")\n",
    "plt.ylabel(\"Number of People\")\n",
    "plt.hist(np.array(df_uw_mgmnt_accepted[\"Average\"].tolist(), dtype=np.float64))\n",
    "plt.show()"
   ]
  },
  {
   "cell_type": "markdown",
   "metadata": {},
   "source": [
    "UOFT Eng Sci"
   ]
  },
  {
   "cell_type": "code",
   "execution_count": null,
   "metadata": {},
   "outputs": [],
   "source": [
    "df_utsg_engsci1 = df_utsg[df_utsg['Program'].str.contains('Engineering Science', na=False, case=False)]\n",
    "df_utsg_engsci2 = df_utsg[df_utsg['Program'].str.contains('EngSci', na=False, case=False)]\n",
    "df_utsg_engsci3 = df_utsg[df_utsg['Program'].str.contains('Eng sci', na=False, case=False)]\n",
    "\n",
    "#combine\n",
    "df_utsg_engsci = pd.concat([df_utsg_engsci1, df_utsg_engsci2, df_utsg_engsci3]).reset_index(drop=True)\n",
    "\n",
    "# get accepted\n",
    "df_utsg_engsci_accepted = df_utsg_engsci[df_utsg_engsci['Status'] == 'Accepted'].reset_index(drop=True)\n",
    "df_utsg_engsci_accepted101 = df_utsg_engsci_accepted[df_utsg_engsci_accepted['Type (101/105)'] == '101'].reset_index(drop=True)\n",
    "df_utsg_engsci_accepted105 = df_utsg_engsci_accepted[df_utsg_engsci_accepted['Type (101/105)'].str.contains('105')].reset_index(drop=True)\n",
    "\n",
    "# get average of 101\n",
    "df_utsg_engsci_accepted['Average'] = df_utsg_engsci_accepted['Average'].astype(float)\n",
    "df_utsg_engsci_accepted101['Average'] = df_utsg_engsci_accepted101['Average'].astype(float)\n",
    "df_utsg_engsci_accepted105['Average'] = df_utsg_engsci_accepted105['Average'].astype(float)\n",
    "\n",
    "# print averages\n",
    "print(\"Admission Average: \" + str(df_utsg_engsci_accepted['Average'].mean()))\n",
    "print(\"Admission Average 101: \" + str(df_utsg_engsci_accepted101['Average'].mean()))\n",
    "print(\"Admission Average 105: \" + str(df_utsg_engsci_accepted105['Average'].mean()))\n",
    "\n",
    "\n"
   ]
  },
  {
   "cell_type": "code",
   "execution_count": null,
   "metadata": {},
   "outputs": [],
   "source": [
    "plt.title(\"University of Toronto\\nEngineering Science Admission Averages\")\n",
    "plt.xlabel(\"Grades\")\n",
    "plt.ylabel(\"Number of People\")\n",
    "plt.hist(np.array(df_utsg_engsci_accepted[\"Average\"].tolist(), dtype=np.float64))\n",
    "plt.show()"
   ]
  },
  {
   "cell_type": "markdown",
   "metadata": {},
   "source": [
    "UOttawa CS"
   ]
  },
  {
   "cell_type": "code",
   "execution_count": null,
   "metadata": {},
   "outputs": [],
   "source": [
    "df_uottawa = df[df['School'].str.contains('ottawa', na=False, case=False)]\n",
    "\n",
    "df_uottawa_cs1 = df_uottawa[df_uottawa['Program'].str.contains('CS', na=False, case=False)]\n",
    "df_uottawa_cs2 = df_uottawa[df_uottawa['Program'].str.contains('Computer Science', na=False, case=False)]\n",
    "df_uottawa_cs3 = df_uottawa[df_uottawa['Program'].str.contains('comp sci', na=False, case=False)]\n",
    "\n",
    "# combine them\n",
    "df_uottawa_cs = pd.concat([df_uottawa_cs1, df_uottawa_cs2, df_uottawa_cs3]).reset_index(drop=True)\n",
    "\n",
    "# get accepted\n",
    "df_uottawa_cs_accepted = df_uottawa_cs[df_uottawa_cs['Status'] == 'Accepted'].reset_index(drop=True)\n",
    "df_uottawa_cs_accepted101 = df_uottawa_cs_accepted[df_uottawa_cs_accepted['Type (101/105)'] == '101'].reset_index(drop=True)\n",
    "# df_uottawa_cs_accepted105 = df_uottawa_cs_accepted[df_uottawa_cs_accepted['Type (101/105)'].str.contains('105')].reset_index(drop=True)\n",
    "\n",
    "#get averages\n",
    "df_uottawa_cs_accepted['Average'] = df_uottawa_cs_accepted['Average'].astype(float)\n",
    "df_uottawa_cs_accepted101['Average'] = df_uottawa_cs_accepted101['Average'].astype(float)\n",
    "# df_uottawa_cs_accepted105['Average'] = df_uottawa_cs_accepted105['Average'].astype(float)\n",
    "\n",
    "#print averages\n",
    "print(\"Admission Average: \" + str(df_uottawa_cs_accepted['Average'].mean()))\n",
    "print(\"Admission Average 101: \" + str(df_uottawa_cs_accepted101['Average'].mean()))\n",
    "# get the min \n",
    "print(\"Lowest Avg 105: \" + str(df_uottawa_cs_accepted['Average'].min()))\n",
    "print(\"Lowest Average 101: \" + str(df_uottawa_cs_accepted101['Average'].min()))\n"
   ]
  },
  {
   "cell_type": "code",
   "execution_count": null,
   "metadata": {},
   "outputs": [],
   "source": [
    "plt.title(\"University of Ottawa\\nComputer Science Admission Averages\")\n",
    "plt.xlabel(\"Grades\")\n",
    "plt.ylabel(\"Number of People\")\n",
    "plt.hist(np.array(df_uottawa_cs_accepted[\"Average\"].tolist(), dtype=np.float64))\n",
    "plt.show()"
   ]
  },
  {
   "cell_type": "markdown",
   "metadata": {},
   "source": [
    "Waterloo Engineering\n"
   ]
  },
  {
   "cell_type": "code",
   "execution_count": null,
   "metadata": {},
   "outputs": [],
   "source": [
    "df_uw_eng1 = df_uw[df_uw['Program'].str.contains('Engineering', na=False, case=False)]\n",
    "df_uw_eng2 = df_uw[df_uw['Program'].str.contains('Eng', na=False, case=False)]\n",
    "\n",
    "# combine\n",
    "df_uw_eng = pd.concat([df_uw_eng1, df_uw_eng2]).reset_index(drop=True)\n",
    "\n",
    "# get accepted\n",
    "df_uw_eng_accepted = df_uw_eng[df_uw_eng['Status'] == 'Accepted'].reset_index(drop=True)\n",
    "df_uw_eng_accepted101 = df_uw_eng_accepted[df_uw_eng_accepted['Type (101/105)'] == '101'].reset_index(drop=True)\n",
    "df_uw_eng_accepted105 = df_uw_eng_accepted[df_uw_eng_accepted['Type (101/105)'].str.contains('105')].reset_index(drop=True)\n",
    "\n",
    "# get avvg\n",
    "df_uw_eng_accepted['Average'] = df_uw_eng_accepted['Average'].astype(float)\n",
    "df_uw_eng_accepted101['Average'] = df_uw_eng_accepted101['Average'].astype(float)\n",
    "df_uw_eng_accepted105['Average'] = df_uw_eng_accepted105['Average'].astype(float)\n",
    "\n",
    "# print averages \n",
    "print(\"Admission Average: \" + str(df_uw_eng_accepted['Average'].mean()))\n",
    "print(\"Admission Average 101: \" + str(df_uw_eng_accepted101['Average'].mean()))\n",
    "print(\"Admission Average 105: \" + str(df_uw_eng_accepted105['Average'].mean()))\n"
   ]
  },
  {
   "cell_type": "code",
   "execution_count": null,
   "metadata": {},
   "outputs": [],
   "source": [
    "plt.title(\"University of Waterloo\\nEngineering Admission Averages\")\n",
    "plt.xlabel(\"Grades\")\n",
    "plt.ylabel(\"Number of People\")\n",
    "plt.hist(np.array(df_uw_eng_accepted[\"Average\"].tolist(), dtype=np.float64))\n",
    "plt.show()"
   ]
  },
  {
   "cell_type": "markdown",
   "metadata": {},
   "source": [
    "Western Ivey"
   ]
  },
  {
   "cell_type": "code",
   "execution_count": null,
   "metadata": {},
   "outputs": [],
   "source": [
    "df_ivey = df[df['Program'].str.contains('ivey', na=False, case=False)]\n",
    "\n",
    "# get accepted\n",
    "df_ivey_accepted = df_ivey[df_ivey['Status'] == 'Accepted'].reset_index(drop=True)\n",
    "df_ivey_accepted101 = df_ivey_accepted[df_ivey_accepted['Type (101/105)'] == '101'].reset_index(drop=True)\n",
    "df_ivey_accepted105 = df_ivey_accepted[df_ivey_accepted['Type (101/105)'].str.contains('105')].reset_index(drop=True)\n",
    "\n",
    "# get avg\n",
    "df_ivey_accepted['Average'] = df_ivey_accepted['Average'].astype(float)\n",
    "df_ivey_accepted101['Average'] = df_ivey_accepted101['Average'].astype(float)\n",
    "df_ivey_accepted105['Average'] = df_ivey_accepted105['Average'].astype(float)\n",
    "\n",
    "# print averages\n",
    "print(\"Admission Average: \" + str(df_ivey_accepted['Average'].mean()))\n",
    "print(\"Admission Average 101: \" + str(df_ivey_accepted101['Average'].mean()))\n",
    "print(\"Admission Average 105: \" + str(df_ivey_accepted105['Average'].mean()))"
   ]
  },
  {
   "cell_type": "code",
   "execution_count": null,
   "metadata": {},
   "outputs": [],
   "source": [
    "plt.title(\"Western University\\nIvey Business School Admission Averages\")\n",
    "plt.xlabel(\"Grades\")\n",
    "plt.ylabel(\"Number of People\")\n",
    "plt.hist(np.array(df_ivey_accepted[\"Average\"].tolist(), dtype=np.float64))\n",
    "plt.show()"
   ]
  },
  {
   "cell_type": "markdown",
   "metadata": {},
   "source": [
    "Queens Computing\n"
   ]
  },
  {
   "cell_type": "code",
   "execution_count": null,
   "metadata": {},
   "outputs": [],
   "source": [
    "df_queens1 = df[df['School'].str.contains(\"Queen's\", na=False, case=False)]\n",
    "df_queens2 = df[df['School'].str.contains(\"queens\", na=False, case=False)]\n",
    "\n",
    "#combine\n",
    "df_queens = pd.concat([df_queens1, df_queens2]).reset_index(drop=True)\n",
    "\n",
    "df_queens_cs1 = df_queens[df_queens['Program'].str.contains('Computer Science', na=False, case=False)]\n",
    "df_queens_cs2 = df_queens[df_queens['Program'].str.contains('CS', na=False, case=False)]\n",
    "df_queens_cs3 = df_queens[df_queens['Program'].str.contains('comp sci', na=False, case=False)]\n",
    "df_queens_cs4 = df_queens[df_queens['Program'].str.contains('Computing', case=False)]\n",
    "\n",
    "# combine\n",
    "df_queens_cs = pd.concat([df_queens_cs1, df_queens_cs2, df_queens_cs3, df_queens_cs4]).reset_index(drop=True)\n",
    "\n",
    "# get accepted\n",
    "df_queens_cs_accepted = df_queens_cs[df_queens_cs['Status'] == 'Accepted'].reset_index(drop=True)\n",
    "df_queens_cs_accepted101 = df_queens_cs_accepted[df_queens_cs_accepted['Type (101/105)'] == '101'].reset_index(drop=True)\n",
    "df_queens_cs_accepted105 = df_queens_cs_accepted[df_queens_cs_accepted['Type (101/105)'].str.contains('105')].reset_index(drop=True)\n",
    "\n",
    "# get avg\n",
    "df_queens_cs_accepted['Average'] = df_queens_cs_accepted['Average'].astype(float)\n",
    "df_queens_cs_accepted101['Average'] = df_queens_cs_accepted101['Average'].astype(float)\n",
    "df_queens_cs_accepted105['Average'] = df_queens_cs_accepted105['Average'].astype(float)\n",
    "\n",
    "# print averages\n",
    "print(\"Admission Average: \" + str(df_queens_cs_accepted['Average'].mean()))\n",
    "print(\"Admission Average 101: \" + str(df_queens_cs_accepted101['Average'].mean()))\n",
    "print(\"Admission Average 105: \" + str(df_queens_cs_accepted105['Average'].mean()))\n"
   ]
  },
  {
   "cell_type": "code",
   "execution_count": null,
   "metadata": {},
   "outputs": [],
   "source": [
    "plt.title(\"Queen's University\\nComputing Admission Averages\")\n",
    "plt.xlabel(\"Grades\")\n",
    "plt.ylabel(\"Number of People\")\n",
    "plt.hist(np.array(df_queens_cs_accepted[\"Average\"].tolist(), dtype=np.float64))\n",
    "plt.show()"
   ]
  },
  {
   "cell_type": "markdown",
   "metadata": {},
   "source": [
    "get stats on user input\n"
   ]
  },
  {
   "cell_type": "code",
   "execution_count": 270,
   "metadata": {},
   "outputs": [
    {
     "name": "stdout",
     "output_type": "stream",
     "text": [
      "Admission Average: 98.69166666666666\n",
      "Admission Average 101: 98.69166666666666\n",
      "Admission Average 105: nan\n"
     ]
    },
    {
     "data": {
      "image/png": "[encoded data removed]",
      "text/plain": [
       "<Figure size 432x288 with 1 Axes>"
      ]
     },
     "metadata": {
      "needs_background": "light"
     },
     "output_type": "display_data"
    },
    {
     "data": {
      "image/png": "[encoded data removed]",
      "text/plain": [
       "<Figure size 432x288 with 1 Axes>"
      ]
     },
     "metadata": {
      "needs_background": "light"
     },
     "output_type": "display_data"
    },
    {
     "data": {
      "image/png": "[encoded data removed]",
      "text/plain": [
       "<Figure size 432x288 with 1 Axes>"
      ]
     },
     "metadata": {
      "needs_background": "light"
     },
     "output_type": "display_data"
    }
   ],
   "source": [
    "def getDF(uni_names = [],program_names = []):\n",
    "    df_uni_stats = pd.DataFrame()\n",
    "    df_program_stats = pd.DataFrame()\n",
    "    for i in range(len(uni_names)):\n",
    "        # append this to a df df[df['School'].str.contains(uni_names[i], na=False, case=False)]\n",
    "        df_uni = df[df['School'].str.contains(uni_names[i], na=False, case=False)]\n",
    "        # concat it to the df_program_stats\n",
    "        df_uni_stats = pd.concat([df_uni_stats, df_uni])\n",
    "    for i in range(len(program_names)):\n",
    "        df_program = df_uni_stats[df_uni_stats['Program'].str.contains(program_names[i], na=False, case=False)]\n",
    "        df_program_stats = pd.concat([df_program_stats, df_program])\n",
    "\n",
    "    return df_program_stats\n",
    "\n",
    "def getStats(dfStats):\n",
    "    dfStats = dfStats.reset_index(drop=True)\n",
    "    # get accepted\n",
    "    dfStats_accepted = dfStats[dfStats['Status'] == 'Accepted'].reset_index(drop=True)\n",
    "    # get 101\n",
    "    dfStats_accepted101 = dfStats_accepted[dfStats_accepted['Type (101/105)'] == '101'].reset_index(drop=True)\n",
    "    # get 105\n",
    "    dfStats_accepted105 = dfStats_accepted[dfStats_accepted['Type (101/105)'].str.contains('105')].reset_index(drop=True)\n",
    "\n",
    "    # get avgs\n",
    "    dfStats_accepted['Average'] = dfStats_accepted['Average'].astype(float)\n",
    "    dfStats_accepted101['Average'] = dfStats_accepted101['Average'].astype(float)\n",
    "    dfStats_accepted105['Average'] = dfStats_accepted105['Average'].astype(float)\n",
    "\n",
    "    # print averages\n",
    "    print(\"Admission Average: \" + str(dfStats_accepted['Average'].mean()))\n",
    "    print(\"Admission Average 101: \" + str(dfStats_accepted101['Average'].mean()))\n",
    "    print(\"Admission Average 105: \" + str(dfStats_accepted105['Average'].mean()))\n",
    "\n",
    "    # plot\n",
    "    #y label saying 101 or 105 or everyone\n",
    "    plt.title(\"Everyone\")\n",
    "    plt.hist(np.array(dfStats_accepted[\"Average\"].tolist(), dtype=np.float64))\n",
    "    plt.show()\n",
    "    plt.title(\"101\")\n",
    "    plt.hist(np.array(dfStats_accepted101[\"Average\"].tolist(), dtype=np.float64))\n",
    "    plt.show()\n",
    "    plt.title(\"105\")\n",
    "    plt.hist(np.array(dfStats_accepted105[\"Average\"].tolist(), dtype=np.float64))\n",
    "    plt.show()\n",
    "    \n",
    "    return\n",
    "\n",
    "\n",
    "getStats(getDF(uni_names = ['uw','uoft'], program_names = ['Computer Science']))  "
   ]
  }
 ],
 "metadata": {
  "interpreter": {
   "hash": "a84618f713eeb5fcd769bee4620c90a6965adc728eb72c0644b59c5b3864d62b"
  },
  "kernelspec": {
   "display_name": "Python 3 (ipykernel)",
   "language": "python",
   "name": "python3"
  },
  "language_info": {
   "codemirror_mode": {
    "name": "ipython",
    "version": 3
   },
   "file_extension": ".py",
   "mimetype": "text/x-python",
   "name": "python",
   "nbconvert_exporter": "python",
   "pygments_lexer": "ipython3",
   "version": "3.9.7"
  }
 },
 "nbformat": 4,
 "nbformat_minor": 2
}
